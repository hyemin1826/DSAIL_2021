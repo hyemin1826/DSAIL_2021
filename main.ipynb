{
  "nbformat": 4,
  "nbformat_minor": 0,
  "metadata": {
    "kernelspec": {
      "display_name": "Python 3",
      "language": "python",
      "name": "python3"
    },
    "language_info": {
      "codemirror_mode": {
        "name": "ipython",
        "version": 3
      },
      "file_extension": ".py",
      "mimetype": "text/x-python",
      "name": "python",
      "nbconvert_exporter": "python",
      "pygments_lexer": "ipython3",
      "version": "3.6.4"
    },
    "colab": {
      "name": "main.ipynb",
      "provenance": [],
      "collapsed_sections": [
        "b9Wgy0z1Sw0z"
      ],
      "include_colab_link": true
    }
  },
  "cells": [
    {
      "cell_type": "markdown",
      "metadata": {
        "id": "view-in-github",
        "colab_type": "text"
      },
      "source": [
        "<a href=\"https://colab.research.google.com/github/hyemin1826/DSAIL_2021/blob/master/main.ipynb\" target=\"_parent\"><img src=\"https://colab.research.google.com/assets/colab-badge.svg\" alt=\"Open In Colab\"/></a>"
      ]
    },
    {
      "cell_type": "code",
      "metadata": {
        "colab": {
          "base_uri": "https://localhost:8080/"
        },
        "id": "QQ-PzOMQtUQM",
        "outputId": "4c224984-22c0-4667-a7ef-6c48a7e7c694"
      },
      "source": [
        "!pip install catboost"
      ],
      "execution_count": 1,
      "outputs": [
        {
          "output_type": "stream",
          "text": [
            "Collecting catboost\n",
            "  Downloading catboost-0.26.1-cp37-none-manylinux1_x86_64.whl (67.4 MB)\n",
            "\u001b[K     |████████████████████████████████| 67.4 MB 25 kB/s \n",
            "\u001b[?25hRequirement already satisfied: graphviz in /usr/local/lib/python3.7/dist-packages (from catboost) (0.10.1)\n",
            "Requirement already satisfied: plotly in /usr/local/lib/python3.7/dist-packages (from catboost) (4.4.1)\n",
            "Requirement already satisfied: matplotlib in /usr/local/lib/python3.7/dist-packages (from catboost) (3.2.2)\n",
            "Requirement already satisfied: six in /usr/local/lib/python3.7/dist-packages (from catboost) (1.15.0)\n",
            "Requirement already satisfied: pandas>=0.24.0 in /usr/local/lib/python3.7/dist-packages (from catboost) (1.1.5)\n",
            "Requirement already satisfied: numpy>=1.16.0 in /usr/local/lib/python3.7/dist-packages (from catboost) (1.19.5)\n",
            "Requirement already satisfied: scipy in /usr/local/lib/python3.7/dist-packages (from catboost) (1.4.1)\n",
            "Requirement already satisfied: python-dateutil>=2.7.3 in /usr/local/lib/python3.7/dist-packages (from pandas>=0.24.0->catboost) (2.8.2)\n",
            "Requirement already satisfied: pytz>=2017.2 in /usr/local/lib/python3.7/dist-packages (from pandas>=0.24.0->catboost) (2018.9)\n",
            "Requirement already satisfied: cycler>=0.10 in /usr/local/lib/python3.7/dist-packages (from matplotlib->catboost) (0.10.0)\n",
            "Requirement already satisfied: kiwisolver>=1.0.1 in /usr/local/lib/python3.7/dist-packages (from matplotlib->catboost) (1.3.1)\n",
            "Requirement already satisfied: pyparsing!=2.0.4,!=2.1.2,!=2.1.6,>=2.0.1 in /usr/local/lib/python3.7/dist-packages (from matplotlib->catboost) (2.4.7)\n",
            "Requirement already satisfied: retrying>=1.3.3 in /usr/local/lib/python3.7/dist-packages (from plotly->catboost) (1.3.3)\n",
            "Installing collected packages: catboost\n",
            "Successfully installed catboost-0.26.1\n"
          ],
          "name": "stdout"
        }
      ]
    },
    {
      "cell_type": "code",
      "metadata": {
        "id": "e5w_wEg0tBLn"
      },
      "source": [
        "from google.colab import drive\n",
        "drive.mount('/gdrive')"
      ],
      "execution_count": null,
      "outputs": []
    },
    {
      "cell_type": "code",
      "metadata": {
        "id": "efIBffY0T8Dj"
      },
      "source": [
        "FOLD='/gdrive/My\\ Drive/Internship/2021_summer/Shinhan'\n",
        "%cp -r $FOLD /intern/\n",
        "%cd /intern/"
      ],
      "execution_count": null,
      "outputs": []
    },
    {
      "cell_type": "code",
      "metadata": {
        "id": "EaWQG-pBIEYC"
      },
      "source": [
        "import argument\n",
        "import datasets\n",
        "import utils\n",
        "\n",
        "from models import *\n",
        "import models"
      ],
      "execution_count": null,
      "outputs": []
    },
    {
      "cell_type": "markdown",
      "metadata": {
        "id": "b9Wgy0z1Sw0z"
      },
      "source": [
        "# 1. 데이터 특성 알아보기"
      ]
    },
    {
      "cell_type": "code",
      "metadata": {
        "colab": {
          "base_uri": "https://localhost:8080/"
        },
        "id": "qlSIspKfUbwC",
        "outputId": "647080e2-7c73-4391-b384-4f916569030e"
      },
      "source": [
        "import seaborn as sns\n",
        "import numpy as np\n",
        "\n",
        "from datasets import *\n",
        "\n",
        "df=load_data('df_modi')"
      ],
      "execution_count": null,
      "outputs": [
        {
          "output_type": "stream",
          "text": [
            "2000000\n"
          ],
          "name": "stdout"
        }
      ]
    },
    {
      "cell_type": "code",
      "metadata": {
        "colab": {
          "base_uri": "https://localhost:8080/",
          "height": 364
        },
        "cellView": "form",
        "id": "yOQQlEcJUXmi",
        "outputId": "194c9e84-def5-40ca-d7b8-b65050494528"
      },
      "source": [
        "#@title\n",
        "print(df['MNPR_PMPE_TC'].unique())\n",
        "print(df.loc[:,'MNPR_PMPE_TC'].isna().sum()))\n",
        "#sns.histplot(x=df.loc[:, 'MNPR_PMPE_TC'])\n",
        "sns.kdeplot(x=df.loc[:, 'MNPR_PMPE_TC'])"
      ],
      "execution_count": null,
      "outputs": [
        {
          "output_type": "stream",
          "text": [
            "[10 15 20 26 30 28 24 52 29 19 17 13 23 31 21 34 35 41 45 50 16 25 55 27\n",
            " 56 51 37 32  5 33 43 58 47 57 39 36 12 18 42 59 22 48 14  0 60 38 11  9\n",
            " 44 64 40 49 46 53  6  7 73 79 61 70 54 69  8 72 66 75 74 71 68 78 76 80\n",
            " 63 62]\n"
          ],
          "name": "stdout"
        },
        {
          "output_type": "execute_result",
          "data": {
            "text/plain": [
              "<matplotlib.axes._subplots.AxesSubplot at 0x7fb5da119190>"
            ]
          },
          "metadata": {
            "tags": []
          },
          "execution_count": 31
        },
        {
          "output_type": "display_data",
          "data": {
            "image/png": "[encoded data removed]",
            "text/plain": [
              "<Figure size 432x288 with 1 Axes>"
            ]
          },
          "metadata": {
            "tags": [],
            "needs_background": "light"
          }
        }
      ]
    },
    {
      "cell_type": "code",
      "metadata": {
        "colab": {
          "base_uri": "https://localhost:8080/",
          "height": 381
        },
        "cellView": "form",
        "id": "nQiUyD-Tq067",
        "outputId": "b74860aa-9f10-4e1f-a9af-d0079f2bca38"
      },
      "source": [
        "#@title\n",
        "print(df['MNPR_INFT_TC'].unique())\n",
        "print(df.loc[:,'MNPR_INFT_TC'].isna().sum())\n",
        "sns.kdeplot(x=df['MNPR_INFT_TC'])"
      ],
      "execution_count": null,
      "outputs": [
        {
          "output_type": "stream",
          "text": [
            "[10 15 99 58 41 79 77 38 54 23 70 62 72 33 56 40 64 20 73 43 29 44 27 32\n",
            " 50 59 45 30 81 76 35 63 66 26 51 49 31 78 80 37 52 65 25 71 48 46 57 61\n",
            " 53 18 67 60 47 36 22 34 55 24 17 69 74 28 42 68 14 39 21 75 16 19 13 11\n",
            " 12]\n",
            "0\n"
          ],
          "name": "stdout"
        },
        {
          "output_type": "execute_result",
          "data": {
            "text/plain": [
              "<matplotlib.axes._subplots.AxesSubplot at 0x7fb5d9eb2350>"
            ]
          },
          "metadata": {
            "tags": []
          },
          "execution_count": 39
        },
        {
          "output_type": "display_data",
          "data": {
            "image/png": "[encoded data removed]",
            "text/plain": [
              "<Figure size 432x288 with 1 Axes>"
            ]
          },
          "metadata": {
            "tags": [],
            "needs_background": "light"
          }
        }
      ]
    },
    {
      "cell_type": "code",
      "metadata": {
        "colab": {
          "base_uri": "https://localhost:8080/",
          "height": 358
        },
        "cellView": "form",
        "id": "tCkaEd8eBcyc",
        "outputId": "f07c521c-2610-427a-e744-14cfb8e0cc0f"
      },
      "source": [
        "#@title\n",
        "# MNPR_ENT_AM (주계약가입금액)\n",
        "print(df['MNPR_ENT_AM'].unique())\n",
        "print(df.loc[:,'MNPR_ENT_AM'].isna().sum())\n",
        "print(df['MNPR_ENT_AM'].max(), \" <-> \", df['MNPR_ENT_AM'].min())\n",
        "sns.kdeplot(x=df['MNPR_ENT_AM'])"
      ],
      "execution_count": null,
      "outputs": [
        {
          "output_type": "stream",
          "text": [
            "[ 10000000  30000000  20000000 ... 101300000 105100000 115100000]\n",
            "0\n",
            "314000000  <->  2000000\n"
          ],
          "name": "stdout"
        },
        {
          "output_type": "execute_result",
          "data": {
            "text/plain": [
              "<matplotlib.axes._subplots.AxesSubplot at 0x7fdf54eb1c50>"
            ]
          },
          "metadata": {
            "tags": []
          },
          "execution_count": 9
        },
        {
          "output_type": "display_data",
          "data": {
            "image/png": "[encoded data removed]",
            "text/plain": [
              "<Figure size 432x288 with 1 Axes>"
            ]
          },
          "metadata": {
            "tags": [],
            "needs_background": "light"
          }
        }
      ]
    },
    {
      "cell_type": "code",
      "metadata": {
        "colab": {
          "base_uri": "https://localhost:8080/",
          "height": 381
        },
        "id": "6ssBdyTrMAUt",
        "outputId": "bdd674d6-c021-445a-98e7-7561627dd303"
      },
      "source": [
        "# ISRD_AG(가입보험나이) -> 60세 이상을 하나로 묶고 싶은데 라벨을 어떻게 해야 할까?\n",
        "print(df['ISRD_AG'].unique())\n",
        "print(df.loc[:,'ISRD_AG'].isna().sum())\n",
        "print(df['ISRD_AG'].max(), \" <-> \", df['ISRD_AG'].min())\n",
        "sns.kdeplot(x=df['ISRD_AG'])\n",
        "sns.histplot(x=df.loc[:, 'ISRD_AG'])"
      ],
      "execution_count": null,
      "outputs": [
        {
          "output_type": "stream",
          "text": [
            "[51 57 53 23 56 41 25 42 63 36 32 43 48 47 31 34 44 60 64 49 29 22 39 45\n",
            " 21 62 26 58 27 46 52 55 30 38 65 28 37 54 50 40 67 35 68 59 72 19 66 73\n",
            " 24 20 33 69 61 70 74 71 75]\n",
            "0\n",
            "75  <->  19\n"
          ],
          "name": "stdout"
        },
        {
          "output_type": "execute_result",
          "data": {
            "text/plain": [
              "<matplotlib.axes._subplots.AxesSubplot at 0x7f12f47613d0>"
            ]
          },
          "metadata": {
            "tags": []
          },
          "execution_count": 10
        },
        {
          "output_type": "display_data",
          "data": {
            "image/png": "[encoded data removed]",
            "text/plain": [
              "<Figure size 432x288 with 1 Axes>"
            ]
          },
          "metadata": {
            "tags": [],
            "needs_background": "light"
          }
        }
      ]
    },
    {
      "cell_type": "code",
      "metadata": {
        "colab": {
          "base_uri": "https://localhost:8080/",
          "height": 334
        },
        "id": "UR3WuF_cMiZt",
        "outputId": "fdf06f76-da64-4d71-e5c4-c8f8cacd0734"
      },
      "source": [
        "# PWK_DRNK_CNT & TM1_DRNK_BTL_CN\n",
        "print(df.loc[:,'PWK_DRNK_CNT'].isna().sum())\n",
        "#sns.kdeplot(x=df['PWK_DRNK_CNT'])\n",
        "sns.histplot(x=df.loc[:, 'PWK_DRNK_CNT'])\n",
        "\n",
        "print(df.loc[:,'TM1_DRNK_BTL_CN'].isna().sum())\n",
        "sns.histplot(x=df.loc[:, 'TM1_DRNK_BTL_CN'])"
      ],
      "execution_count": null,
      "outputs": [
        {
          "output_type": "stream",
          "text": [
            "0\n",
            "0\n"
          ],
          "name": "stdout"
        },
        {
          "output_type": "execute_result",
          "data": {
            "text/plain": [
              "<matplotlib.axes._subplots.AxesSubplot at 0x7f12f406f650>"
            ]
          },
          "metadata": {
            "tags": []
          },
          "execution_count": 12
        },
        {
          "output_type": "display_data",
          "data": {
            "image/png": "[encoded data removed]",
            "text/plain": [
              "<Figure size 432x288 with 1 Axes>"
            ]
          },
          "metadata": {
            "tags": [],
            "needs_background": "light"
          }
        }
      ]
    },
    {
      "cell_type": "code",
      "metadata": {
        "id": "OooLiCZbTZ6R"
      },
      "source": [
        "# DRNK\n",
        "df['PWK_DRNK_CNT']=np.log2(df['PWK_DRNK_CNT']+1)\n",
        "df['TM1_DRNK_BTL_CN']=np.log2(df['TM1_DRNK_BTL_CN']+1)\n",
        "\n",
        "# #'MNPR_ENT_AM' (주계약가입금액): min, max 차이 큼 -> log or scaling \n",
        "# df['MNPR_ENT_AM']=np.log2(df['MNPR_ENT_AM'])\n",
        "# print(df['MNPR_ENT_AM'].max(), \" <-> \", df['MNPR_ENT_AM'].min())\n",
        "\n",
        "# # 'MNPR_INFT_TC' : categorical로 바꾸기 (가능?)\n",
        "# df.loc[df['MNPR_INFT_TC']<=60, 'MNPR_INFT_TC']=0 # 주계약납입기간 짧음\n",
        "# df.loc[df['MNPR_INFT_TC']>60, 'MNPR_INFT_TC']=1 # 주계약납입기간 >60, 1 (long)\n",
        "\n",
        "# print(df['MNPR_INFT_TC'].unique())\n",
        "\n",
        "# # 범위 분류: log취하기\n",
        "# df['MNPR_PMPE_TC']=np.log2(df['MNPR_PMPE_TC']+1)\n",
        "# print(df['MNPR_PMPE_TC'].unique())\n",
        "\n",
        "# MAIN_PVS_CCN : 5~7: 같은 취급하기 (6으로 취급)\n",
        "# df['MAIN_PVS_CCN']=df['MAIN_PVS_CCN'].map({1:1, 2:2, 3:3, 4:4, 5:6, 6:6, 7:6})\n",
        "# df.loc[:, 'MAIN_PVS_CCN'].head()"
      ],
      "execution_count": null,
      "outputs": []
    },
    {
      "cell_type": "code",
      "metadata": {
        "colab": {
          "base_uri": "https://localhost:8080/"
        },
        "id": "yc0Nv-w3YO4E",
        "outputId": "46dbd6b6-93a4-479a-9212-66873a08e320"
      },
      "source": [
        "df.to_csv('df_modi_feature_engineering.csv')\n",
        "\n",
        "!rm \"/gdrive/My Drive/Internship/2021_summer/Shinhan/data/df_modi_feature_engineering.csv\"\n",
        "!yes|cp -rf df_modi_feature_engineering.csv \"/gdrive/My Drive/Internship/2021_summer/Shinhan/data/\"\n",
        "%cd \"/gdrive/My Drive/Internship/2021_summer/Shinhan/\""
      ],
      "execution_count": null,
      "outputs": [
        {
          "output_type": "stream",
          "text": [
            "/gdrive/My Drive/Internship/2021_summer/Shinhan\n"
          ],
          "name": "stdout"
        }
      ]
    },
    {
      "cell_type": "code",
      "metadata": {
        "colab": {
          "base_uri": "https://localhost:8080/"
        },
        "id": "2XLpeX_4DbRR",
        "outputId": "86cf6988-1c96-4317-b831-f1e6b6d03afc"
      },
      "source": [
        "df2=load_data('df_modi_feature_engineering')\n",
        "print(df2['TM1_DRNK_BTL_CN'].min())"
      ],
      "execution_count": null,
      "outputs": [
        {
          "output_type": "stream",
          "text": [
            "2000000\n",
            "0.0\n"
          ],
          "name": "stdout"
        }
      ]
    },
    {
      "cell_type": "markdown",
      "metadata": {
        "id": "nJsAgEPvZQ4b"
      },
      "source": [
        "# 2. 변경 파일 저장"
      ]
    },
    {
      "cell_type": "code",
      "metadata": {
        "colab": {
          "base_uri": "https://localhost:8080/"
        },
        "id": "QX9nhEnHuD9v",
        "outputId": "b8676aa1-5eda-4a0b-c531-20fe4b6aa628"
      },
      "source": [
        "import os\n",
        "\n",
        "%cd /intern/\n",
        "\n",
        "curr_path=os.getcwd()+\"/\""
      ],
      "execution_count": null,
      "outputs": [
        {
          "output_type": "stream",
          "text": [
            "/intern\n",
            "/intern/\n"
          ],
          "name": "stdout"
        }
      ]
    },
    {
      "cell_type": "code",
      "metadata": {
        "id": "WF93fJBVXGe1",
        "colab": {
          "base_uri": "https://localhost:8080/"
        },
        "outputId": "c2b10736-ab80-4397-c109-3b3192f4794c"
      },
      "source": [
        "FILES_NAMES=['datasets.py','argument.py', 'utils.py']\n",
        "MODELS_NAMES=['XGBoost.py','CatBoost.py','LightGBM.py']\n",
        "\n",
        "FILES_TO_SAVE=[curr_path + name for name in FILES_NAMES]\n",
        "MODELS_TO_SAVE=[curr_path+'models/' + name for name in MODELS_NAMES]\n",
        "\n",
        "TOTAL_TO_SAVE=FILES_TO_SAVE+MODELS_TO_SAVE\n",
        "print(TOTAL_TO_SAVE)\n",
        "\n",
        "FOLD_PATH=os.path.join(\"/gdrive/My Drive/Internship/2021_summer/\",\"Shinhan\")\n",
        "for files in TOTAL_TO_SAVE:\n",
        "    with open(os.path.join(FOLD_PATH,\"/\".join(files.split('/')[2:])), 'w') as f:\n",
        "        f.write(''.join(open(files).readlines()))"
      ],
      "execution_count": null,
      "outputs": [
        {
          "output_type": "stream",
          "text": [
            "['/intern/datasets.py', '/intern/argument.py', '/intern/utils.py', '/intern/models/XGBoost.py', '/intern/models/CatBoost.py', '/intern/models/LightGBM.py']\n"
          ],
          "name": "stdout"
        }
      ]
    },
    {
      "cell_type": "markdown",
      "metadata": {
        "id": "9rqJZmdkS0S3"
      },
      "source": [
        "# 3. Main 코드로 학습하기"
      ]
    },
    {
      "cell_type": "code",
      "metadata": {
        "colab": {
          "base_uri": "https://localhost:8080/"
        },
        "id": "VyiVdE5KIKJl",
        "outputId": "cda870e2-5440-4207-b980-faba6e6c5154"
      },
      "source": [
        "%cd \"/gdrive/My Drive/Internship/2021_summer/Shinhan/\""
      ],
      "execution_count": null,
      "outputs": [
        {
          "output_type": "stream",
          "text": [
            "/gdrive/My Drive/Internship/2021_summer/Shinhan\n"
          ],
          "name": "stdout"
        }
      ]
    },
    {
      "cell_type": "code",
      "metadata": {
        "id": "fuis39eqtBLr"
      },
      "source": [
        "def main():\n",
        "    args, _ = argument.parse_args()\n",
        "    print(args)\n",
        "    if args.model == 'XGBoost':\n",
        "        model = XGBoost(args)\n",
        "\n",
        "    if args.model == 'Catboost':\n",
        "        model = CatBoost(args)\n",
        "        \n",
        "    if args.model == 'LightGBM':\n",
        "        model = LightGBM(args)\n",
        "        \n",
        "    model.train()"
      ],
      "execution_count": null,
      "outputs": []
    },
    {
      "cell_type": "markdown",
      "metadata": {
        "id": "P6Gdo4dQJCDE"
      },
      "source": [
        "# 4. Result"
      ]
    },
    {
      "cell_type": "markdown",
      "metadata": {
        "id": "RGiMFK0dFn4_"
      },
      "source": [
        "## 술 -> 1회 음주, 음주 빈도수 log (대부분 술 많이 안 마심)"
      ]
    },
    {
      "cell_type": "code",
      "metadata": {
        "colab": {
          "base_uri": "https://localhost:8080/"
        },
        "id": "ukGAPx1rFsnH",
        "outputId": "baa5158d-cc88-4a95-80f7-7a0e50c942c2"
      },
      "source": [
        "main()"
      ],
      "execution_count": null,
      "outputs": [
        {
          "output_type": "stream",
          "text": [
            "Namespace(label='majority', model='XGBoost', name='df_modi_feature_engineering', over='SMOTE', over_strategy=0.5, save=False, scaler='MinMax', seed=1, task='overall', under=None, version='Label_enc')\n",
            "2000000\n",
            "model-before preprocess\n",
            "*** Start Preprocessing ***\n",
            "변경됨~\n"
          ],
          "name": "stdout"
        },
        {
          "output_type": "stream",
          "text": [
            "100%|██████████| 53/53 [00:03<00:00, 14.19it/s]\n"
          ],
          "name": "stderr"
        },
        {
          "output_type": "stream",
          "text": [
            "*** End Preprocessing ***\n",
            "*** Start Sampling ***\n"
          ],
          "name": "stdout"
        },
        {
          "output_type": "stream",
          "text": [
            "/usr/local/lib/python3.7/dist-packages/sklearn/utils/deprecation.py:87: FutureWarning: Function safe_indexing is deprecated; safe_indexing is deprecated in version 0.22 and will be removed in version 0.24.\n",
            "  warnings.warn(msg, category=FutureWarning)\n"
          ],
          "name": "stderr"
        },
        {
          "output_type": "stream",
          "text": [
            "*** End Sampling ***\n",
            "*** Start Training ***\n",
            "*** End Training ***\n",
            "Accuracy: 0.896961320225303, Precision: 0.9723655464137964, Recall: 0.917367422788918, F1_score: 0.9440661615791225\n"
          ],
          "name": "stdout"
        }
      ]
    },
    {
      "cell_type": "markdown",
      "metadata": {
        "id": "kGknKnYzwPCB"
      },
      "source": [
        "## MNPR_INFT_TC (주계약 보험기간) -> 0/1  \n",
        "Label encoding에서 cat_cols/num_cols도 변경함"
      ]
    },
    {
      "cell_type": "code",
      "metadata": {
        "colab": {
          "base_uri": "https://localhost:8080/"
        },
        "id": "b8gtGvKZwYYg",
        "outputId": "747b9bdc-b058-4afe-8463-f25f898c3ab0"
      },
      "source": [
        "main()"
      ],
      "execution_count": null,
      "outputs": [
        {
          "output_type": "stream",
          "text": [
            "Namespace(label='majority', model='XGBoost', name='df_modi_feature_engineering', over='SMOTE', over_strategy=0.5, save=False, scaler='MinMax', seed=1, task='overall', under=None, version='Label_enc')\n",
            "model-before preprocess\n",
            "*** Start Preprocessing ***\n",
            "변경됨~\n"
          ],
          "name": "stdout"
        },
        {
          "output_type": "stream",
          "text": [
            "100%|██████████| 53/53 [00:03<00:00, 13.95it/s]\n"
          ],
          "name": "stderr"
        },
        {
          "output_type": "stream",
          "text": [
            "*** End Preprocessing ***\n",
            "*** Start Sampling ***\n"
          ],
          "name": "stdout"
        },
        {
          "output_type": "stream",
          "text": [
            "/usr/local/lib/python3.7/dist-packages/sklearn/utils/deprecation.py:87: FutureWarning: Function safe_indexing is deprecated; safe_indexing is deprecated in version 0.22 and will be removed in version 0.24.\n",
            "  warnings.warn(msg, category=FutureWarning)\n"
          ],
          "name": "stderr"
        },
        {
          "output_type": "stream",
          "text": [
            "*** End Sampling ***\n",
            "*** Start Training ***\n",
            "*** End Training ***\n",
            "Accuracy: 0.8980421092012554, Precision: 0.9721577726218097, Recall: 0.9187488351185712, F1_score: 0.9446990321907885\n"
          ],
          "name": "stdout"
        }
      ]
    },
    {
      "cell_type": "markdown",
      "metadata": {
        "id": "qF-l0Pi3JEJP"
      },
      "source": [
        "## MNPR_PMPE_TC (주계약 납입기간) LOG 취함"
      ]
    },
    {
      "cell_type": "code",
      "metadata": {
        "colab": {
          "base_uri": "https://localhost:8080/"
        },
        "id": "XLfzP7v2tBLx",
        "outputId": "e157c835-383a-4264-ad17-558a087927d5"
      },
      "source": [
        "if __name__ == \"__main__\":\n",
        "    main()"
      ],
      "execution_count": null,
      "outputs": [
        {
          "output_type": "stream",
          "text": [
            "Namespace(label='majority', model='XGBoost', name='df_modi_feature_engineering', over='SMOTE', over_strategy=0.5, save=False, scaler='MinMax', seed=1, task='overall', under=None, version='Label_enc')\n",
            "model-before preprocess\n",
            "*** Start Preprocessing ***\n"
          ],
          "name": "stdout"
        },
        {
          "output_type": "stream",
          "text": [
            "100%|██████████| 53/53 [00:03<00:00, 13.41it/s]\n"
          ],
          "name": "stderr"
        },
        {
          "output_type": "stream",
          "text": [
            "*** End Preprocessing ***\n",
            "*** Start Sampling ***\n"
          ],
          "name": "stdout"
        },
        {
          "output_type": "stream",
          "text": [
            "/usr/local/lib/python3.7/dist-packages/sklearn/utils/deprecation.py:87: FutureWarning: Function safe_indexing is deprecated; safe_indexing is deprecated in version 0.22 and will be removed in version 0.24.\n",
            "  warnings.warn(msg, category=FutureWarning)\n"
          ],
          "name": "stderr"
        },
        {
          "output_type": "stream",
          "text": [
            "*** End Sampling ***\n",
            "*** Start Training ***\n",
            "*** End Training ***\n",
            "Accuracy: 0.9018976160289319, Precision: 0.9712971608396445, Recall: 0.9238030500707152, F1_score: 0.9469549679144986\n"
          ],
          "name": "stdout"
        }
      ]
    },
    {
      "cell_type": "markdown",
      "metadata": {
        "id": "F_gXq7EAZnA7"
      },
      "source": [
        "import argument\n",
        "import datasets\n",
        "import utils"
      ]
    }
  ]
}