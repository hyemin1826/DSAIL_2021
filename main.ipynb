{
  "nbformat": 4,
  "nbformat_minor": 0,
  "metadata": {
    "kernelspec": {
      "display_name": "Python 3",
      "language": "python",
      "name": "python3"
    },
    "language_info": {
      "codemirror_mode": {
        "name": "ipython",
        "version": 3
      },
      "file_extension": ".py",
      "mimetype": "text/x-python",
      "name": "python",
      "nbconvert_exporter": "python",
      "pygments_lexer": "ipython3",
      "version": "3.6.4"
    },
    "colab": {
      "name": "main.ipynb",
      "provenance": [],
      "collapsed_sections": [
        "b9Wgy0z1Sw0z"
      ],
      "include_colab_link": true
    }
  },
  "cells": [
    {
      "cell_type": "markdown",
      "metadata": {
        "id": "view-in-github",
        "colab_type": "text"
      },
      "source": [
        "<a href=\"https://colab.research.google.com/github/hyemin1826/DSAIL_2021/blob/master/main.ipynb\" target=\"_parent\"><img src=\"https://colab.research.google.com/assets/colab-badge.svg\" alt=\"Open In Colab\"/></a>"
      ]
    },
    {
      "cell_type": "code",
      "metadata": {
        "colab": {
          "base_uri": "https://localhost:8080/"
        },
        "id": "QQ-PzOMQtUQM",
        "outputId": "53de450c-9621-4b58-d938-efb9e7f55785"
      },
      "source": [
        "!pip install catboost"
      ],
      "execution_count": 1,
      "outputs": [
        {
          "output_type": "stream",
          "text": [
            "Collecting catboost\n",
            "  Downloading catboost-0.26.1-cp37-none-manylinux1_x86_64.whl (67.4 MB)\n",
            "\u001b[K     |████████████████████████████████| 67.4 MB 23 kB/s \n",
            "\u001b[?25hRequirement already satisfied: pandas>=0.24.0 in /usr/local/lib/python3.7/dist-packages (from catboost) (1.1.5)\n",
            "Requirement already satisfied: scipy in /usr/local/lib/python3.7/dist-packages (from catboost) (1.4.1)\n",
            "Requirement already satisfied: plotly in /usr/local/lib/python3.7/dist-packages (from catboost) (4.4.1)\n",
            "Requirement already satisfied: graphviz in /usr/local/lib/python3.7/dist-packages (from catboost) (0.10.1)\n",
            "Requirement already satisfied: six in /usr/local/lib/python3.7/dist-packages (from catboost) (1.15.0)\n",
            "Requirement already satisfied: matplotlib in /usr/local/lib/python3.7/dist-packages (from catboost) (3.2.2)\n",
            "Requirement already satisfied: numpy>=1.16.0 in /usr/local/lib/python3.7/dist-packages (from catboost) (1.19.5)\n",
            "Requirement already satisfied: python-dateutil>=2.7.3 in /usr/local/lib/python3.7/dist-packages (from pandas>=0.24.0->catboost) (2.8.2)\n",
            "Requirement already satisfied: pytz>=2017.2 in /usr/local/lib/python3.7/dist-packages (from pandas>=0.24.0->catboost) (2018.9)\n",
            "Requirement already satisfied: cycler>=0.10 in /usr/local/lib/python3.7/dist-packages (from matplotlib->catboost) (0.10.0)\n",
            "Requirement already satisfied: kiwisolver>=1.0.1 in /usr/local/lib/python3.7/dist-packages (from matplotlib->catboost) (1.3.1)\n",
            "Requirement already satisfied: pyparsing!=2.0.4,!=2.1.2,!=2.1.6,>=2.0.1 in /usr/local/lib/python3.7/dist-packages (from matplotlib->catboost) (2.4.7)\n",
            "Requirement already satisfied: retrying>=1.3.3 in /usr/local/lib/python3.7/dist-packages (from plotly->catboost) (1.3.3)\n",
            "Installing collected packages: catboost\n",
            "Successfully installed catboost-0.26.1\n"
          ],
          "name": "stdout"
        }
      ]
    },
    {
      "cell_type": "code",
      "metadata": {
        "id": "e5w_wEg0tBLn",
        "colab": {
          "base_uri": "https://localhost:8080/"
        },
        "outputId": "09590648-e229-4de4-a2a6-2eb799e23d9c"
      },
      "source": [
        "from google.colab import drive\n",
        "drive.mount('/gdrive')"
      ],
      "execution_count": 2,
      "outputs": [
        {
          "output_type": "stream",
          "text": [
            "Mounted at /gdrive\n"
          ],
          "name": "stdout"
        }
      ]
    },
    {
      "cell_type": "code",
      "metadata": {
        "id": "D7-AKD4Hq38u",
        "colab": {
          "base_uri": "https://localhost:8080/"
        },
        "outputId": "42ef31ca-779a-4a9f-fe87-7d1b3189eb80"
      },
      "source": [
        "%cd /home\n",
        "%rm -r /intern/"
      ],
      "execution_count": 3,
      "outputs": [
        {
          "output_type": "stream",
          "text": [
            "/home\n",
            "rm: cannot remove '/intern/': No such file or directory\n"
          ],
          "name": "stdout"
        }
      ]
    },
    {
      "cell_type": "code",
      "metadata": {
        "id": "efIBffY0T8Dj",
        "colab": {
          "base_uri": "https://localhost:8080/"
        },
        "outputId": "65de6bdd-ccbe-4246-8261-4fe1de137414"
      },
      "source": [
        "FOLD='/gdrive/My\\ Drive/Internship/2021_summer/Shinhan'\n",
        "%cp -r $FOLD /intern/\n",
        "%cd /intern/"
      ],
      "execution_count": 4,
      "outputs": [
        {
          "output_type": "stream",
          "text": [
            "/intern\n"
          ],
          "name": "stdout"
        }
      ]
    },
    {
      "cell_type": "code",
      "metadata": {
        "colab": {
          "base_uri": "https://localhost:8080/"
        },
        "id": "EaWQG-pBIEYC",
        "outputId": "b40f4b0b-9f45-48e0-ef49-0caebfcb7fee"
      },
      "source": [
        "import argument\n",
        "import datasets\n",
        "import utils\n",
        "import os"
      ],
      "execution_count": 5,
      "outputs": [
        {
          "output_type": "stream",
          "text": [
            "/usr/local/lib/python3.7/dist-packages/sklearn/externals/six.py:31: FutureWarning: The module is deprecated in version 0.21 and will be removed in version 0.23 since we've dropped support for Python 2.7. Please rely on the official version of six (https://pypi.org/project/six/).\n",
            "  \"(https://pypi.org/project/six/).\", FutureWarning)\n",
            "/usr/local/lib/python3.7/dist-packages/sklearn/utils/deprecation.py:144: FutureWarning: The sklearn.neighbors.base module is  deprecated in version 0.22 and will be removed in version 0.24. The corresponding classes / functions should instead be imported from sklearn.neighbors. Anything that cannot be imported from sklearn.neighbors is now part of the private API.\n",
            "  warnings.warn(message, FutureWarning)\n"
          ],
          "name": "stderr"
        }
      ]
    },
    {
      "cell_type": "markdown",
      "metadata": {
        "id": "b9Wgy0z1Sw0z"
      },
      "source": [
        "# 1. 급부별로 쪼개기"
      ]
    },
    {
      "cell_type": "code",
      "metadata": {
        "colab": {
          "base_uri": "https://localhost:8080/"
        },
        "id": "qlSIspKfUbwC",
        "outputId": "b2e3e0c7-a7e1-4c66-95b3-70e0f074a987"
      },
      "source": [
        "import seaborn as sns\n",
        "import numpy as np\n",
        "\n",
        "from datasets import *\n",
        "\n",
        "df=load_data('df_modi')"
      ],
      "execution_count": null,
      "outputs": [
        {
          "output_type": "stream",
          "text": [
            "2000000\n"
          ],
          "name": "stdout"
        }
      ]
    },
    {
      "cell_type": "code",
      "metadata": {
        "colab": {
          "base_uri": "https://localhost:8080/"
        },
        "id": "yc0Nv-w3YO4E",
        "outputId": "46dbd6b6-93a4-479a-9212-66873a08e320"
      },
      "source": [
        "df.to_csv('df_modi_feature_engineering.csv')\n",
        "\n",
        "!rm \"/gdrive/My Drive/Internship/2021_summer/Shinhan/data/df_modi_feature_engineering.csv\"\n",
        "!yes|cp -rf df_modi_feature_engineering.csv \"/gdrive/My Drive/Internship/2021_summer/Shinhan/data/\"\n",
        "%cd \"/gdrive/My Drive/Internship/2021_summer/Shinhan/\""
      ],
      "execution_count": null,
      "outputs": [
        {
          "output_type": "stream",
          "text": [
            "/gdrive/My Drive/Internship/2021_summer/Shinhan\n"
          ],
          "name": "stdout"
        }
      ]
    },
    {
      "cell_type": "code",
      "metadata": {
        "colab": {
          "base_uri": "https://localhost:8080/"
        },
        "id": "2XLpeX_4DbRR",
        "outputId": "86cf6988-1c96-4317-b831-f1e6b6d03afc"
      },
      "source": [
        "df2=load_data('df_modi_feature_engineering')\n",
        "print(df2['TM1_DRNK_BTL_CN'].min())"
      ],
      "execution_count": null,
      "outputs": [
        {
          "output_type": "stream",
          "text": [
            "2000000\n",
            "0.0\n"
          ],
          "name": "stdout"
        }
      ]
    },
    {
      "cell_type": "markdown",
      "metadata": {
        "id": "nJsAgEPvZQ4b"
      },
      "source": [
        "# 2. 변경 파일 저장"
      ]
    },
    {
      "cell_type": "code",
      "metadata": {
        "colab": {
          "base_uri": "https://localhost:8080/"
        },
        "id": "QX9nhEnHuD9v",
        "outputId": "5e570059-04ad-4101-a2b5-686d28c2b893"
      },
      "source": [
        "%cd /intern/\n",
        "curr_path=os.getcwd()+\"/\""
      ],
      "execution_count": 9,
      "outputs": [
        {
          "output_type": "stream",
          "text": [
            "/intern\n"
          ],
          "name": "stdout"
        }
      ]
    },
    {
      "cell_type": "code",
      "metadata": {
        "id": "WF93fJBVXGe1",
        "colab": {
          "base_uri": "https://localhost:8080/"
        },
        "outputId": "92236afc-343d-4c53-fc3a-f7ef452c436f"
      },
      "source": [
        "FILES_NAMES=['datasets.py','argument.py', 'utils.py']\n",
        "MODELS_NAMES=['XGBoost.py','CatBoost.py','LightGBM.py']\n",
        "\n",
        "FILES_TO_SAVE=[curr_path + name for name in FILES_NAMES]\n",
        "MODELS_TO_SAVE=[curr_path+'models/' + name for name in MODELS_NAMES]\n",
        "\n",
        "TOTAL_TO_SAVE=FILES_TO_SAVE+MODELS_TO_SAVE\n",
        "print(TOTAL_TO_SAVE)\n",
        "\n",
        "FOLD_PATH=os.path.join(\"/gdrive/My Drive/Internship/2021_summer/\",\"Shinhan\")\n",
        "for files in TOTAL_TO_SAVE:\n",
        "    with open(os.path.join(FOLD_PATH,\"/\".join(files.split('/')[2:])), 'w') as f:\n",
        "        f.write(''.join(open(files).readlines()))"
      ],
      "execution_count": 10,
      "outputs": [
        {
          "output_type": "stream",
          "text": [
            "['/intern/datasets.py', '/intern/argument.py', '/intern/utils.py', '/intern/models/XGBoost.py', '/intern/models/CatBoost.py', '/intern/models/LightGBM.py']\n"
          ],
          "name": "stdout"
        }
      ]
    },
    {
      "cell_type": "markdown",
      "metadata": {
        "id": "9rqJZmdkS0S3"
      },
      "source": [
        "# 3. Main 코드로 학습하기"
      ]
    },
    {
      "cell_type": "code",
      "metadata": {
        "id": "74WwduyM-veR"
      },
      "source": [
        "%load_ext autoreload\n",
        "%autoreload 2"
      ],
      "execution_count": 20,
      "outputs": []
    },
    {
      "cell_type": "code",
      "metadata": {
        "id": "s6XceSZ3_dxC"
      },
      "source": [
        "%reload_ext autoreload\n",
        "from models import *"
      ],
      "execution_count": null,
      "outputs": []
    },
    {
      "cell_type": "code",
      "metadata": {
        "id": "vSoKWIYNpux1",
        "colab": {
          "base_uri": "https://localhost:8080/"
        },
        "outputId": "f2d675b9-a869-4f6b-942e-83e85ea28b63"
      },
      "source": [
        "from models import *\n",
        "import models"
      ],
      "execution_count": 6,
      "outputs": [
        {
          "output_type": "stream",
          "text": [
            "/intern\n",
            "argument.py  df_modi_feature_engineering.csv  main.ipynb  __pycache__\n",
            "data\t     go.sh\t\t\t      main.py\t  Recsys_Challenge.pdf\n",
            "datasets.py  logs\t\t\t      models\t  utils.py\n"
          ],
          "name": "stdout"
        }
      ]
    },
    {
      "cell_type": "code",
      "metadata": {
        "id": "fuis39eqtBLr"
      },
      "source": [
        "def main():\n",
        "    args, _ = argument.parse_args()\n",
        "    print(args)\n",
        "    if args.model == 'XGBoost':\n",
        "        model = XGBoost(args)\n",
        "\n",
        "    if args.model == 'Catboost':\n",
        "        model = CatBoost(args)\n",
        "        \n",
        "    if args.model == 'LightGBM':\n",
        "        model = LightGBM(args)\n",
        "        \n",
        "    model.train()"
      ],
      "execution_count": 7,
      "outputs": []
    },
    {
      "cell_type": "markdown",
      "metadata": {
        "id": "P6Gdo4dQJCDE"
      },
      "source": [
        "# 4. Result"
      ]
    },
    {
      "cell_type": "markdown",
      "metadata": {
        "id": "RGiMFK0dFn4_"
      },
      "source": [
        "## 1) [가입급부-사망] 분리 후 학습"
      ]
    },
    {
      "cell_type": "code",
      "metadata": {
        "id": "ukGAPx1rFsnH",
        "colab": {
          "base_uri": "https://localhost:8080/"
        },
        "outputId": "0635a9f3-7126-4f87-f200-e7b00f96a5fd"
      },
      "source": [
        "main()"
      ],
      "execution_count": 8,
      "outputs": [
        {
          "output_type": "stream",
          "text": [
            "Namespace(label='majority', model='XGBoost', name='df_modi', over='SMOTE', over_strategy=0.5, save=False, scaler='MinMax', seed=1, task='A1', under=None, version='Label_enc')\n",
            "2000000\n",
            "model-before preprocess\n",
            "*** Start Preprocessing ***\n"
          ],
          "name": "stdout"
        },
        {
          "output_type": "stream",
          "text": [
            "100%|██████████| 53/53 [00:04<00:00, 12.00it/s]\n"
          ],
          "name": "stderr"
        },
        {
          "output_type": "stream",
          "text": [
            "*** End Preprocessing ***\n",
            "<class 'pandas.core.frame.DataFrame'>\n",
            "RangeIndex: 481129 entries, 0 to 481128\n",
            "Columns: 194 entries, ENT_PVS_A1 to PY_YN_H1\n",
            "dtypes: float64(85), int64(109)\n",
            "memory usage: 712.1 MB\n",
            "None\n",
            "가입급부-사망\n",
            "['RET_AMT_A1100']\n",
            "*** Start Sampling ***\n"
          ],
          "name": "stdout"
        },
        {
          "output_type": "stream",
          "text": [
            "/usr/local/lib/python3.7/dist-packages/sklearn/utils/deprecation.py:87: FutureWarning: Function safe_indexing is deprecated; safe_indexing is deprecated in version 0.22 and will be removed in version 0.24.\n",
            "  warnings.warn(msg, category=FutureWarning)\n"
          ],
          "name": "stderr"
        },
        {
          "output_type": "stream",
          "text": [
            "*** End Sampling ***\n",
            "['ENT_PVS_A1', 'MNPR_GOOD_SC_A', 'SI_INS_YN', 'CHNN_SC_FC', 'CHNN_SC_DB', 'CHNN_SC_GA', 'DIG_TRGT_YN', 'SUTA_TRGT_YN', 'CMPR_NOTI_YN', 'RNWL_YN', 'SBLI_SC_03', 'SBLI_SC_04', 'GNDR', 'DANG_GRD_BAD_YN', 'CARE_JOB_YN', 'FRCO_YN', 'COOR_MNNP_SAME_YN', 'DTH_BNFC_TRGT_YN', 'RSK_INFO_RET_YN', 'MAIN_RSK_RET_YN', 'DCLS_YN', 'MAIN_DISE_DCLS_YN', 'ANMS_DCLS_YN', 'KCIS_DISE_RET_YN', 'ENT_IMP_DISE_RET_YN', 'CHRN_DISE_RET_YN', 'CNSN_IMPB_RS_1', 'CNSN_IMPB_RS_2', 'CNSN_IMPB_RS_3', 'IMMN_BYRE_DISE_0_inf', 'IMMN_BYRE_DISE_1_inf', 'IMMN_BYRE_DISE_2_inf', 'IMMN_BYRE_DISE_3_inf', 'IMMN_BYRE_DISE_4_inf', 'IMMN_BYRE_DISE_5_inf', 'IMMN_BYRE_DISE_6_inf', 'IMMN_BYRE_DISE_7_inf', 'IMMN_BYRE_DISE_8_inf', 'IMMN_BYRE_DISE_9_inf', 'IMMN_BYRE_DISE_10_inf', 'IMMN_BYRE_DISE_11_inf', 'IMMN_BYRE_DISE_12_inf', 'IMMN_BYRE_DISE_13_inf', 'IMMN_BYRE_DISE_14_inf', 'IMMN_BYRE_DISE_15_inf', 'IMMN_BYRE_DISE_16_inf', 'IMMN_BYRE_DISE_17_inf', 'IMMN_BYRE_DISE_18_inf', 'IMMN_BYRE_DISE_19_inf', 'IMMN_BYRE_DISE_20_inf', 'IMMN_BYRE_DISE_21_inf', 'IMMN_BYRE_DISE_22_inf', 'IMMN_BYRE_DISE_23_inf', 'IMMN_BYRE_DISE_24_inf', 'IMMN_BYRE_DISE_25_inf', 'IMMN_BYRE_DISE_26_inf', 'IMMN_BYRE_DISE_27_inf', 'IMMN_BYRE_DISE_28_inf', 'IMMN_BYRE_DISE_29_inf', 'IMMN_BYRE_DISE_30_inf', 'IMMN_BYRE_DISE_31_inf', 'IMMN_BYRE_DISE_32_inf', 'IMMN_BYRE_DISE_33_inf', 'IMMN_BYRE_DISE_34_inf', 'IMMN_BYRE_DISE_35_inf', 'IMMN_BYRE_DISE_36_inf', 'IMMN_BYRE_DISE_37_inf', 'IMMN_BYRE_DISE_38_inf', 'IMMN_BYRE_DISE_39_inf', 'IMMN_BYRE_DISE_40_inf', 'IMMN_BYRE_DISE_41_inf', 'IMMN_BYRE_DISE_42_inf', 'IMMN_BYRE_DISE_43_inf', 'IMMN_BYRE_DISE_44_inf', 'IMMN_BYRE_DISE_45_inf', 'IMMN_BYRE_DISE_46_inf', 'IMMN_BYRE_DISE_47_inf', 'IMMN_BYRE_DISE_48_inf', 'IMMN_BYRE_DISE_49_inf', 'IMMN_BYRE_DISE_50_inf', 'IMMN_BYRE_DISE_51_inf', 'IMMN_BYRE_DISE_52_inf', 'IMMN_BYRE_DISE_0', 'IMMN_BYRE_DISE_1', 'IMMN_BYRE_DISE_2', 'IMMN_BYRE_DISE_3', 'IMMN_BYRE_DISE_4', 'IMMN_BYRE_DISE_5', 'IMMN_BYRE_DISE_6', 'IMMN_BYRE_DISE_7', 'IMMN_BYRE_DISE_8', 'IMMN_BYRE_DISE_9', 'IMMN_BYRE_DISE_10', 'IMMN_BYRE_DISE_11', 'IMMN_BYRE_DISE_12', 'IMMN_BYRE_DISE_13', 'IMMN_BYRE_DISE_14', 'IMMN_BYRE_DISE_15', 'IMMN_BYRE_DISE_16', 'IMMN_BYRE_DISE_17', 'IMMN_BYRE_DISE_18', 'IMMN_BYRE_DISE_19', 'IMMN_BYRE_DISE_20', 'IMMN_BYRE_DISE_21', 'IMMN_BYRE_DISE_22', 'IMMN_BYRE_DISE_23', 'IMMN_BYRE_DISE_24', 'IMMN_BYRE_DISE_25', 'IMMN_BYRE_DISE_26', 'IMMN_BYRE_DISE_27', 'IMMN_BYRE_DISE_28', 'IMMN_BYRE_DISE_29', 'IMMN_BYRE_DISE_30', 'IMMN_BYRE_DISE_31', 'IMMN_BYRE_DISE_32', 'IMMN_BYRE_DISE_33', 'IMMN_BYRE_DISE_34', 'IMMN_BYRE_DISE_35', 'IMMN_BYRE_DISE_36', 'IMMN_BYRE_DISE_37', 'IMMN_BYRE_DISE_38', 'IMMN_BYRE_DISE_39', 'IMMN_BYRE_DISE_40', 'IMMN_BYRE_DISE_41', 'IMMN_BYRE_DISE_42', 'IMMN_BYRE_DISE_43', 'IMMN_BYRE_DISE_44', 'IMMN_BYRE_DISE_45', 'IMMN_BYRE_DISE_46', 'IMMN_BYRE_DISE_47', 'IMMN_BYRE_DISE_48', 'IMMN_BYRE_DISE_49', 'IMMN_BYRE_DISE_50', 'IMMN_BYRE_DISE_51', 'IMMN_BYRE_DISE_52', 'MAIN_PVS_CCN', 'MNPR_PMPE_TC', 'MNPR_INFT_TC', 'MNPR_ENT_AM', 'MTPA_STR_SUM_INP_FE', 'ABTM_PERI_CD', 'DANG_IDX_CD', 'ISRD_AG', 'PWK_DRNK_CNT', 'TM1_DRNK_BTL_CN', 'DY1_SMKN_PCE_CN', 'SMKN_PERI_MON_CN', 'TOT_RET_CCN', 'TOT_MMP_FE', 'FOC_ENT_CCN', 'FOC_ENT_MMP_FE', 'RET_AMT_A4200', 'RET_AMT_A4100', 'RET_AMT_A4109', 'RET_AMT_A3100', 'RET_AMT_A6100', 'RET_AMT_A5100', 'RET_AMT_A9509', 'KCIS_PY_AMT', 'KCIS_ACCD_CCN', 'KCIS_HTZ_CCN', 'KCIS_GTH_CCN', 'KCIS_DAB_CCN', 'KCIS_DIG_CCN', 'KCIS_SROP_CCN', 'INS_AM_FUR_AM']\n",
            "*** Start Training ***\n",
            "*** End Training ***\n",
            "Accuracy: 0.9656849500135098, Precision: 0.9995159364478341, Recall: 0.966134650376917, F1_score: 0.9825418477513772, Specificity: 0.11764705882352941\n"
          ],
          "name": "stdout"
        }
      ]
    },
    {
      "cell_type": "code",
      "metadata": {
        "id": "_TNmVUb408JV"
      },
      "source": [
        ""
      ],
      "execution_count": null,
      "outputs": []
    }
  ]
}